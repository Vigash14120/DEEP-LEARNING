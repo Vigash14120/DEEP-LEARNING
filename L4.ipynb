{
 "cells": [
  {
   "cell_type": "code",
   "execution_count": 2,
   "id": "0debfe93-b6ef-4310-851b-734d9e7cedb1",
   "metadata": {},
   "outputs": [],
   "source": [
    "import torch\n",
    "import torchvision \n",
    "from torchvision.datasets import MNIST\n",
    "import matplotlib.pyplot as plt\n",
    "import torchvision.transforms as transforms\n",
    "from torch.utils.data import random_split\n",
    "from torch.utils.data import DataLoader\n",
    "import torch.nn.functional as F\n"
   ]
  },
  {
   "cell_type": "code",
   "execution_count": 3,
   "id": "e323be17-733c-47cf-bac8-1274d14c539e",
   "metadata": {},
   "outputs": [
    {
     "name": "stderr",
     "output_type": "stream",
     "text": [
      "100%|██████████| 9.91M/9.91M [00:04<00:00, 2.47MB/s]\n",
      "100%|██████████| 28.9k/28.9k [00:00<00:00, 112kB/s]\n",
      "100%|██████████| 1.65M/1.65M [00:03<00:00, 536kB/s]\n",
      "100%|██████████| 4.54k/4.54k [00:00<00:00, 1.77MB/s]"
     ]
    },
    {
     "name": "stdout",
     "output_type": "stream",
     "text": [
      "60000\n"
     ]
    },
    {
     "name": "stderr",
     "output_type": "stream",
     "text": [
      "\n"
     ]
    }
   ],
   "source": [
    "\n",
    "dataset = MNIST(root = 'data/', download = True)\n",
    "print(len(dataset))"
   ]
  },
  {
   "cell_type": "code",
   "execution_count": 4,
   "id": "3e25a2af-546d-42ae-878b-4583beb673dd",
   "metadata": {},
   "outputs": [
    {
     "name": "stdout",
     "output_type": "stream",
     "text": [
      "Label: 3\n"
     ]
    },
    {
     "data": {
      "image/png": "[encoded data removed]",
      "text/plain": [
       "<Figure size 640x480 with 1 Axes>"
      ]
     },
     "metadata": {},
     "output_type": "display_data"
    }
   ],
   "source": [
    "image, label = dataset[10]\n",
    "plt.imshow(image, cmap = 'gray')\n",
    "print('Label:', label)"
   ]
  },
  {
   "cell_type": "code",
   "execution_count": 5,
   "id": "0123d85e-0b6d-4a42-9bbf-56247a09fc2d",
   "metadata": {},
   "outputs": [
    {
     "name": "stdout",
     "output_type": "stream",
     "text": [
      "Dataset MNIST\n",
      "    Number of datapoints: 60000\n",
      "    Root location: data/\n",
      "    Split: Train\n",
      "    StandardTransform\n",
      "Transform: ToTensor()\n"
     ]
    }
   ],
   "source": [
    "mnist_dataset = MNIST(root = 'data/', train = True, transform = transforms.ToTensor())\n",
    "print(mnist_dataset)"
   ]
  },
  {
   "cell_type": "code",
   "execution_count": 6,
   "id": "2a825178-1f75-470b-8a82-7f9264301ac0",
   "metadata": {},
   "outputs": [
    {
     "name": "stdout",
     "output_type": "stream",
     "text": [
      "torch.Size([1, 28, 28]) 5\n"
     ]
    }
   ],
   "source": [
    "image_tensor, label = mnist_dataset[0]\n",
    "print(image_tensor.shape, label)"
   ]
  },
  {
   "cell_type": "code",
   "execution_count": 7,
   "id": "f3a6f6a2-4701-4d4e-96c8-93619c3768e1",
   "metadata": {},
   "outputs": [
    {
     "name": "stdout",
     "output_type": "stream",
     "text": [
      "tensor([[[0.0039, 0.6039, 0.9922, 0.3529, 0.0000],\n",
      "         [0.0000, 0.5451, 0.9922, 0.7451, 0.0078],\n",
      "         [0.0000, 0.0431, 0.7451, 0.9922, 0.2745],\n",
      "         [0.0000, 0.0000, 0.1373, 0.9451, 0.8824],\n",
      "         [0.0000, 0.0000, 0.0000, 0.3176, 0.9412]]])\n",
      "tensor(1.) tensor(0.)\n"
     ]
    }
   ],
   "source": [
    "print(image_tensor[:,10:15,10:15])\n",
    "print(torch.max(image_tensor), torch.min(image_tensor))"
   ]
  },
  {
   "cell_type": "code",
   "execution_count": 8,
   "id": "c6728456-5760-4df2-b53b-f3332fd90582",
   "metadata": {},
   "outputs": [
    {
     "data": {
      "text/plain": [
       "<matplotlib.image.AxesImage at 0x7b2cf4556b30>"
      ]
     },
     "execution_count": 8,
     "metadata": {},
     "output_type": "execute_result"
    },
    {
     "data": {
      "image/png": "[encoded data removed]",
      "text/plain": [
       "<Figure size 640x480 with 1 Axes>"
      ]
     },
     "metadata": {},
     "output_type": "display_data"
    }
   ],
   "source": [
    "## Plot the image of the tensor\n",
    "plt.imshow(image_tensor[0,10:15,10:15],cmap = 'gray')"
   ]
  },
  {
   "cell_type": "code",
   "execution_count": 9,
   "id": "e7f380f1-e14e-4e2b-8332-0ff5992f6c45",
   "metadata": {},
   "outputs": [
    {
     "name": "stdout",
     "output_type": "stream",
     "text": [
      "length of Train Datasets:  50000\n",
      "length of Validation Datasets:  10000\n"
     ]
    }
   ],
   "source": [
    "train_data, validation_data = random_split(mnist_dataset, [50000, 10000])\n",
    "## Print the length of train and validation datasets\n",
    "print(\"length of Train Datasets: \", len(train_data))\n",
    "print(\"length of Validation Datasets: \", len(validation_data))"
   ]
  },
  {
   "cell_type": "code",
   "execution_count": 10,
   "id": "088050c0-29f6-44fb-9f11-71c2880c382a",
   "metadata": {},
   "outputs": [],
   "source": [
    "batch_size = 128\n",
    "train_loader = DataLoader(train_data, batch_size, shuffle = True)\n",
    "val_loader = DataLoader(validation_data, batch_size, shuffle = False)"
   ]
  },
  {
   "cell_type": "code",
   "execution_count": 11,
   "id": "9c138fb3-3f57-4222-88b3-61b9cb883d7f",
   "metadata": {},
   "outputs": [
    {
     "name": "stdout",
     "output_type": "stream",
     "text": [
      "torch.Size([10, 784])\n",
      "Parameter containing:\n",
      "tensor([[ 0.0003,  0.0088,  0.0043,  ..., -0.0062,  0.0181, -0.0194],\n",
      "        [-0.0040,  0.0297, -0.0270,  ..., -0.0066,  0.0013, -0.0097],\n",
      "        [ 0.0003,  0.0238, -0.0124,  ...,  0.0070,  0.0270,  0.0048],\n",
      "        ...,\n",
      "        [ 0.0025, -0.0284,  0.0006,  ..., -0.0156,  0.0206, -0.0337],\n",
      "        [-0.0225,  0.0333,  0.0128,  ..., -0.0276,  0.0055,  0.0285],\n",
      "        [ 0.0295,  0.0004, -0.0099,  ..., -0.0147,  0.0327,  0.0280]],\n",
      "       requires_grad=True)\n",
      "torch.Size([10])\n",
      "Parameter containing:\n",
      "tensor([ 0.0004, -0.0288, -0.0253, -0.0183, -0.0256,  0.0035, -0.0025,  0.0248,\n",
      "         0.0133,  0.0069], requires_grad=True)\n"
     ]
    }
   ],
   "source": [
    "import torch.nn as nn\n",
    "\n",
    "input_size = 28 * 28\n",
    "num_classes = 10\n",
    "\n",
    "## Logistic regression model\n",
    "model = nn.Linear(input_size, num_classes)\n",
    "print(model.weight.shape)\n",
    "print(model.weight)\n",
    "print(model.bias.shape)\n",
    "print(model.bias)"
   ]
  },
  {
   "cell_type": "code",
   "execution_count": 13,
   "id": "0434ad72-6791-421e-92ef-6cd82435d41e",
   "metadata": {},
   "outputs": [
    {
     "name": "stdout",
     "output_type": "stream",
     "text": [
      "torch.Size([10, 784]) torch.Size([10])\n"
     ]
    },
    {
     "data": {
      "text/plain": [
       "[Parameter containing:\n",
       " tensor([[-0.0016, -0.0243, -0.0136,  ...,  0.0077, -0.0143, -0.0329],\n",
       "         [ 0.0041, -0.0307,  0.0221,  ..., -0.0283, -0.0143,  0.0180],\n",
       "         [-0.0173, -0.0148,  0.0128,  ..., -0.0073,  0.0093, -0.0171],\n",
       "         ...,\n",
       "         [-0.0157,  0.0249,  0.0247,  ..., -0.0223,  0.0169, -0.0030],\n",
       "         [ 0.0171, -0.0356,  0.0101,  ...,  0.0325, -0.0183, -0.0109],\n",
       "         [-0.0010, -0.0296,  0.0064,  ..., -0.0325,  0.0014,  0.0218]],\n",
       "        requires_grad=True),\n",
       " Parameter containing:\n",
       " tensor([ 0.0157,  0.0149,  0.0145, -0.0282,  0.0344, -0.0353,  0.0192, -0.0238,\n",
       "         -0.0118, -0.0296], requires_grad=True)]"
      ]
     },
     "execution_count": 13,
     "metadata": {},
     "output_type": "execute_result"
    }
   ],
   "source": [
    "class MnistModel(nn.Module):\n",
    "    def __init__(self):\n",
    "        super().__init__()\n",
    "        self.linear = nn.Linear(input_size, num_classes)\n",
    "        \n",
    "    def forward(self, xb):\n",
    "        xb = xb.reshape(-1, 784)\n",
    "        print(xb)\n",
    "        out = self.linear(xb)\n",
    "        print(out)\n",
    "        return(out)\n",
    "\n",
    "model = MnistModel()\n",
    "print(model.linear.weight.shape, model.linear.bias.shape)\n",
    "list(model.parameters())"
   ]
  },
  {
   "cell_type": "code",
   "execution_count": 14,
   "id": "64a3c88a-166c-4984-afd3-70b40ececa04",
   "metadata": {},
   "outputs": [
    {
     "name": "stdout",
     "output_type": "stream",
     "text": [
      "tensor([[0., 0., 0.,  ..., 0., 0., 0.],\n",
      "        [0., 0., 0.,  ..., 0., 0., 0.],\n",
      "        [0., 0., 0.,  ..., 0., 0., 0.],\n",
      "        ...,\n",
      "        [0., 0., 0.,  ..., 0., 0., 0.],\n",
      "        [0., 0., 0.,  ..., 0., 0., 0.],\n",
      "        [0., 0., 0.,  ..., 0., 0., 0.]])\n",
      "tensor([[-0.0649,  0.1262,  0.1096,  ..., -0.0195,  0.1368, -0.1278],\n",
      "        [ 0.3311,  0.0862,  0.4942,  ...,  0.0461,  0.7081, -0.3533],\n",
      "        [-0.1807, -0.0578,  0.1608,  ..., -0.0233,  0.3007,  0.0269],\n",
      "        ...,\n",
      "        [ 0.0126, -0.0112, -0.0314,  ...,  0.0146,  0.2214, -0.0314],\n",
      "        [ 0.1077, -0.0293,  0.2524,  ..., -0.1087, -0.0218, -0.2694],\n",
      "        [-0.1440, -0.0412,  0.3253,  ..., -0.1529,  0.1616, -0.2766]],\n",
      "       grad_fn=<AddmmBackward0>)\n",
      "outputs shape:  torch.Size([128, 10])\n",
      "Sample outputs: \n",
      " tensor([[-0.0649,  0.1262,  0.1096,  0.0056, -0.1119,  0.1164, -0.0909, -0.0195,\n",
      "          0.1368, -0.1278],\n",
      "        [ 0.3311,  0.0862,  0.4942, -0.0256,  0.3880,  0.2112, -0.3570,  0.0461,\n",
      "          0.7081, -0.3533]])\n"
     ]
    }
   ],
   "source": [
    "for images, labels in train_loader:\n",
    "    outputs = model(images)\n",
    "    break\n",
    "    \n",
    "print('outputs shape: ', outputs.shape)\n",
    "print('Sample outputs: \\n', outputs[:2].data)"
   ]
  },
  {
   "cell_type": "code",
   "execution_count": 15,
   "id": "43985d48-1316-4323-8e0b-5426fe25846f",
   "metadata": {},
   "outputs": [
    {
     "name": "stdout",
     "output_type": "stream",
     "text": [
      "Sample probabilities:\n",
      " tensor([[0.0925, 0.1120, 0.1101, 0.0993, 0.0883, 0.1109, 0.0901, 0.0968, 0.1132,\n",
      "         0.0869],\n",
      "        [0.1134, 0.0887, 0.1334, 0.0793, 0.1200, 0.1005, 0.0570, 0.0852, 0.1653,\n",
      "         0.0572]])\n",
      "\n",
      "\n",
      "Sum:  1.0\n",
      "\n",
      "\n",
      "tensor([8, 8, 4, 6, 2, 2, 8, 0, 1, 4, 8, 8, 3, 4, 8, 6, 8, 4, 8, 8, 4, 8, 4, 0,\n",
      "        7, 4, 8, 5, 2, 8, 8, 8, 4, 0, 4, 8, 8, 8, 4, 8, 2, 8, 4, 5, 4, 4, 8, 4,\n",
      "        2, 6, 8, 8, 6, 4, 4, 0, 8, 5, 4, 6, 4, 4, 5, 8, 4, 8, 4, 4, 8, 0, 0, 8,\n",
      "        8, 2, 5, 7, 8, 4, 8, 4, 8, 8, 1, 8, 7, 0, 8, 8, 0, 4, 4, 4, 8, 8, 4, 4,\n",
      "        4, 5, 8, 4, 8, 2, 0, 4, 4, 4, 8, 4, 8, 2, 8, 8, 2, 4, 4, 4, 8, 2, 4, 8,\n",
      "        4, 5, 4, 8, 4, 8, 2, 2])\n",
      "\n",
      "\n",
      "tensor([0.1132, 0.1653, 0.1491, 0.1392, 0.1411, 0.1302, 0.1319, 0.1475, 0.1175,\n",
      "        0.1420, 0.1836, 0.1325, 0.1125, 0.1485, 0.1668, 0.1296, 0.1396, 0.1416,\n",
      "        0.1582, 0.1332, 0.1346, 0.1629, 0.1337, 0.1221, 0.1181, 0.1554, 0.1331,\n",
      "        0.1441, 0.1508, 0.1289, 0.1459, 0.1308, 0.1253, 0.1377, 0.1220, 0.1338,\n",
      "        0.1372, 0.1375, 0.1447, 0.1212, 0.1477, 0.1384, 0.1188, 0.1468, 0.1461,\n",
      "        0.1411, 0.1282, 0.1322, 0.1158, 0.1234, 0.1317, 0.1293, 0.1132, 0.1765,\n",
      "        0.1366, 0.1196, 0.1437, 0.1262, 0.1570, 0.1231, 0.1322, 0.1650, 0.1366,\n",
      "        0.1605, 0.1457, 0.1443, 0.1640, 0.1376, 0.1381, 0.1367, 0.1260, 0.1192,\n",
      "        0.1314, 0.1239, 0.1214, 0.1161, 0.1415, 0.1396, 0.1294, 0.1516, 0.1407,\n",
      "        0.1189, 0.1144, 0.1322, 0.1247, 0.1288, 0.1291, 0.1590, 0.1259, 0.1478,\n",
      "        0.1449, 0.1465, 0.1442, 0.1296, 0.1418, 0.1428, 0.1613, 0.1261, 0.1220,\n",
      "        0.1814, 0.1372, 0.1376, 0.1136, 0.1308, 0.1518, 0.1490, 0.1478, 0.1337,\n",
      "        0.1393, 0.1195, 0.1553, 0.1655, 0.1208, 0.1314, 0.1509, 0.1390, 0.1384,\n",
      "        0.1549, 0.1680, 0.1449, 0.1414, 0.1259, 0.1873, 0.1383, 0.1370, 0.1205,\n",
      "        0.1269, 0.1391], grad_fn=<MaxBackward0>)\n"
     ]
    }
   ],
   "source": [
    "## Apply softmax for each output row\n",
    "probs = F.softmax(outputs, dim = 1)\n",
    "\n",
    "## chaecking at sample probabilities\n",
    "print(\"Sample probabilities:\\n\", probs[:2].data)\n",
    "\n",
    "print(\"\\n\")\n",
    "## Add up the probabilities of an output row\n",
    "print(\"Sum: \", torch.sum(probs[0]).item())\n",
    "max_probs, preds = torch.max(probs, dim = 1)\n",
    "print(\"\\n\")\n",
    "print(preds)\n",
    "print(\"\\n\")\n",
    "print(max_probs)"
   ]
  },
  {
   "cell_type": "code",
   "execution_count": 16,
   "id": "652c0c03-9a4d-4dcc-ab4b-a395ed011f23",
   "metadata": {},
   "outputs": [
    {
     "data": {
      "text/plain": [
       "tensor([5, 8, 0, 2, 8, 2, 2, 4, 1, 3, 9, 5, 5, 2, 4, 3, 2, 6, 9, 7, 0, 7, 0, 8,\n",
       "        1, 0, 8, 5, 7, 9, 8, 1, 3, 6, 7, 5, 9, 1, 0, 5, 4, 3, 3, 2, 0, 5, 5, 0,\n",
       "        5, 5, 6, 8, 5, 0, 3, 5, 7, 5, 4, 0, 6, 8, 6, 4, 5, 2, 5, 4, 5, 4, 6, 8,\n",
       "        1, 3, 2, 1, 7, 2, 8, 3, 7, 1, 1, 3, 1, 9, 0, 8, 8, 8, 6, 0, 5, 5, 6, 6,\n",
       "        0, 5, 4, 0, 8, 2, 8, 3, 6, 3, 5, 3, 3, 8, 3, 8, 1, 7, 6, 2, 8, 4, 0, 9,\n",
       "        7, 6, 6, 5, 4, 2, 8, 9])"
      ]
     },
     "execution_count": 16,
     "metadata": {},
     "output_type": "execute_result"
    }
   ],
   "source": [
    "labels"
   ]
  },
  {
   "cell_type": "code",
   "execution_count": 17,
   "id": "0d95d3d8-6113-4b09-a3cc-2fa863b4bde3",
   "metadata": {},
   "outputs": [
    {
     "name": "stdout",
     "output_type": "stream",
     "text": [
      "Accuracy:  tensor(0.1562)\n",
      "\n",
      "\n",
      "Loss Function:  <function cross_entropy at 0x7b2db152a0e0>\n",
      "\n",
      "\n",
      "tensor(2.2861, grad_fn=<NllLossBackward0>)\n"
     ]
    }
   ],
   "source": [
    "def accuracy(outputs, labels):\n",
    "    _, preds = torch.max(outputs, dim = 1)\n",
    "    return(torch.tensor(torch.sum(preds == labels).item()/ len(preds)))\n",
    "\n",
    "print(\"Accuracy: \",accuracy(outputs, labels))\n",
    "print(\"\\n\")\n",
    "loss_fn = F.cross_entropy\n",
    "print(\"Loss Function: \",loss_fn)\n",
    "print(\"\\n\")\n",
    "## Loss for the current batch\n",
    "loss = loss_fn(outputs, labels)\n",
    "print(loss)"
   ]
  },
  {
   "cell_type": "code",
   "execution_count": 18,
   "id": "2be8eb0f-501e-46c6-bb51-8e924736d83b",
   "metadata": {},
   "outputs": [],
   "source": [
    "class MnistModel(nn.Module):\n",
    "    def __init__(self):\n",
    "        super().__init__()\n",
    "        self.linear = nn.Linear(input_size, num_classes)\n",
    "    \n",
    "    def forward(self, xb):\n",
    "        xb = xb.reshape(-1, 784)\n",
    "        out = self.linear(xb)\n",
    "        return(out)\n",
    "    \n",
    "    def training_step(self, batch):\n",
    "        images, labels = batch\n",
    "        out = self(images) ## Generate predictions\n",
    "        loss = F.cross_entropy(out, labels) ## Calculate the loss\n",
    "        return(loss)\n",
    "    \n",
    "    def validation_step(self, batch):\n",
    "        images, labels = batch\n",
    "        out = self(images)\n",
    "        loss = F.cross_entropy(out, labels)\n",
    "        acc = accuracy(out, labels)\n",
    "        return({'val_loss':loss, 'val_acc': acc})\n",
    "    \n",
    "    def validation_epoch_end(self, outputs):\n",
    "        batch_losses = [x['val_loss'] for x in outputs]\n",
    "        epoch_loss = torch.stack(batch_losses).mean()\n",
    "        batch_accs = [x['val_acc'] for x in outputs]\n",
    "        epoch_acc = torch.stack(batch_accs).mean()\n",
    "        return({'val_loss': epoch_loss.item(), 'val_acc' : epoch_acc.item()})\n",
    "    \n",
    "    def epoch_end(self, epoch,result):\n",
    "        print(\"Epoch [{}], val_loss: {:.4f}, val_acc: {:.4f}\".format(epoch, result['val_loss'], result['val_acc']))\n",
    "        \n",
    "    \n",
    "model = MnistModel()"
   ]
  },
  {
   "cell_type": "code",
   "execution_count": 19,
   "id": "a1b65671-200b-4f97-99a3-479acdae5743",
   "metadata": {},
   "outputs": [],
   "source": [
    "def evaluate(model, val_loader):\n",
    "    outputs = [model.validation_step(batch) for batch in val_loader]\n",
    "    return(model.validation_epoch_end(outputs))\n",
    "\n",
    "def fit(epochs, lr, model, train_loader, val_loader, opt_func = torch.optim.SGD):\n",
    "    history = []\n",
    "    optimizer = opt_func(model.parameters(), lr)\n",
    "    for epoch in range(epochs):\n",
    "        \n",
    "        ## Training Phas\n",
    "        for batch in train_loader:\n",
    "            loss = model.training_step(batch)\n",
    "            loss.backward()\n",
    "            optimizer.step()\n",
    "            optimizer.zero_grad()\n",
    "        \n",
    "        ## Validation phase\n",
    "        result = evaluate(model, val_loader)\n",
    "        model.epoch_end(epoch, result)\n",
    "        history.append(result)\n",
    "    return(history)"
   ]
  },
  {
   "cell_type": "code",
   "execution_count": 20,
   "id": "5d8795df-3fc0-47e4-9167-3db9ddf52004",
   "metadata": {},
   "outputs": [
    {
     "data": {
      "text/plain": [
       "{'val_loss': 2.298142671585083, 'val_acc': 0.11501186341047287}"
      ]
     },
     "execution_count": 20,
     "metadata": {},
     "output_type": "execute_result"
    }
   ],
   "source": [
    "result0 = evaluate(model, val_loader)\n",
    "result0"
   ]
  },
  {
   "cell_type": "code",
   "execution_count": 21,
   "id": "2891bff4-6cf2-4d00-a53f-44722ac5758e",
   "metadata": {},
   "outputs": [
    {
     "name": "stdout",
     "output_type": "stream",
     "text": [
      "Epoch [0], val_loss: 1.9259, val_acc: 0.6371\n",
      "Epoch [1], val_loss: 1.6613, val_acc: 0.7223\n",
      "Epoch [2], val_loss: 1.4641, val_acc: 0.7632\n",
      "Epoch [3], val_loss: 1.3153, val_acc: 0.7839\n",
      "Epoch [4], val_loss: 1.2005, val_acc: 0.7984\n"
     ]
    }
   ],
   "source": [
    "history1 = fit(5, 0.001, model, train_loader, val_loader)"
   ]
  },
  {
   "cell_type": "code",
   "execution_count": 22,
   "id": "a9257975-e8f1-47c7-9a2c-5bb429e195fb",
   "metadata": {},
   "outputs": [
    {
     "name": "stdout",
     "output_type": "stream",
     "text": [
      "Epoch [0], val_loss: 1.1102, val_acc: 0.8072\n",
      "Epoch [1], val_loss: 1.0375, val_acc: 0.8162\n",
      "Epoch [2], val_loss: 0.9780, val_acc: 0.8236\n",
      "Epoch [3], val_loss: 0.9284, val_acc: 0.8275\n",
      "Epoch [4], val_loss: 0.8864, val_acc: 0.8301\n"
     ]
    }
   ],
   "source": [
    "history2 = fit(5, 0.001, model, train_loader, val_loader)"
   ]
  },
  {
   "cell_type": "code",
   "execution_count": 23,
   "id": "9b015b73-f976-4856-acee-cdd527c2518b",
   "metadata": {},
   "outputs": [
    {
     "name": "stdout",
     "output_type": "stream",
     "text": [
      "Epoch [0], val_loss: 0.8504, val_acc: 0.8340\n",
      "Epoch [1], val_loss: 0.8192, val_acc: 0.8380\n",
      "Epoch [2], val_loss: 0.7918, val_acc: 0.8402\n",
      "Epoch [3], val_loss: 0.7677, val_acc: 0.8426\n",
      "Epoch [4], val_loss: 0.7461, val_acc: 0.8453\n"
     ]
    }
   ],
   "source": [
    "history3 = fit(5, 0.001, model, train_loader, val_loader)"
   ]
  },
  {
   "cell_type": "code",
   "execution_count": 24,
   "id": "1c93bd08-0272-4c6b-9803-daadb5b53161",
   "metadata": {},
   "outputs": [
    {
     "name": "stdout",
     "output_type": "stream",
     "text": [
      "Epoch [0], val_loss: 0.7268, val_acc: 0.8485\n",
      "Epoch [1], val_loss: 0.7094, val_acc: 0.8510\n",
      "Epoch [2], val_loss: 0.6936, val_acc: 0.8530\n",
      "Epoch [3], val_loss: 0.6791, val_acc: 0.8545\n",
      "Epoch [4], val_loss: 0.6659, val_acc: 0.8560\n"
     ]
    }
   ],
   "source": [
    "history4 = fit(5, 0.001, model, train_loader, val_loader)"
   ]
  },
  {
   "cell_type": "code",
   "execution_count": 25,
   "id": "ecba49b7-e874-4e06-bd4b-1dda7f312f3e",
   "metadata": {},
   "outputs": [
    {
     "data": {
      "text/plain": [
       "Text(0.5, 1.0, 'Accuracy Vs. No. of epochs')"
      ]
     },
     "execution_count": 25,
     "metadata": {},
     "output_type": "execute_result"
    },
    {
     "data": {
      "image/png": "[encoded data removed]",
      "text/plain": [
       "<Figure size 640x480 with 1 Axes>"
      ]
     },
     "metadata": {},
     "output_type": "display_data"
    }
   ],
   "source": [
    "## Replace these values with your result\n",
    "history = [result0] + history1 + history2 + history3 + history4\n",
    "accuracies = [result['val_acc'] for result in history]\n",
    "plt.plot(accuracies, '-x')\n",
    "plt.xlabel('epoch')\n",
    "plt.ylabel('accuracy')\n",
    "plt.title('Accuracy Vs. No. of epochs')"
   ]
  },
  {
   "cell_type": "code",
   "execution_count": null,
   "id": "4ee4a099-395d-468a-b144-3f887374a643",
   "metadata": {},
   "outputs": [],
   "source": []
  }
 ],
 "metadata": {
  "kernelspec": {
   "display_name": "Python 3 (ipykernel)",
   "language": "python",
   "name": "python3"
  },
  "language_info": {
   "codemirror_mode": {
    "name": "ipython",
    "version": 3
   },
   "file_extension": ".py",
   "mimetype": "text/x-python",
   "name": "python",
   "nbconvert_exporter": "python",
   "pygments_lexer": "ipython3",
   "version": "3.10.10"
  }
 },
 "nbformat": 4,
 "nbformat_minor": 5
}
